{
 "cells": [
  {
   "cell_type": "code",
   "execution_count": 1,
   "metadata": {
    "collapsed": false
   },
   "outputs": [],
   "source": [
    "import nn\n",
    "import sys\n",
    "import numpy as np\n",
    "reload(nn)\n",
    "from __future__ import absolute_import\n",
    "from __future__ import division\n",
    "from __future__ import print_function\n",
    "from sklearn.model_selection import train_test_split\n",
    "from sklearn.datasets import fetch_mldata\n",
    "from timeit import default_timer as timer \n",
    "from sklearn.metrics import classification_report\n",
    "import matplotlib\n",
    "import matplotlib.pyplot as plt\n",
    "%matplotlib inline  "
   ]
  },
  {
   "cell_type": "code",
   "execution_count": 2,
   "metadata": {
    "collapsed": false
   },
   "outputs": [],
   "source": [
    "mnist = fetch_mldata('MNIST original')"
   ]
  },
  {
   "cell_type": "code",
   "execution_count": 3,
   "metadata": {
    "collapsed": false
   },
   "outputs": [
    {
     "data": {
      "text/plain": [
       "(70000, 784)"
      ]
     },
     "execution_count": 3,
     "metadata": {},
     "output_type": "execute_result"
    }
   ],
   "source": [
    "mnist.data.shape"
   ]
  },
  {
   "cell_type": "code",
   "execution_count": 4,
   "metadata": {
    "collapsed": false
   },
   "outputs": [
    {
     "data": {
      "text/plain": [
       "(70000,)"
      ]
     },
     "execution_count": 4,
     "metadata": {},
     "output_type": "execute_result"
    }
   ],
   "source": [
    "mnist.target.shape"
   ]
  },
  {
   "cell_type": "code",
   "execution_count": 5,
   "metadata": {
    "collapsed": false
   },
   "outputs": [
    {
     "data": {
      "text/plain": [
       "array([ 0.,  1.,  2.,  3.,  4.,  5.,  6.,  7.,  8.,  9.])"
      ]
     },
     "execution_count": 5,
     "metadata": {},
     "output_type": "execute_result"
    }
   ],
   "source": [
    "np.unique(mnist.target)"
   ]
  },
  {
   "cell_type": "code",
   "execution_count": 6,
   "metadata": {
    "collapsed": false
   },
   "outputs": [],
   "source": [
    "X_FULL = mnist.data \n",
    "Y_FULL = mnist.target\n"
   ]
  },
  {
   "cell_type": "code",
   "execution_count": 7,
   "metadata": {
    "collapsed": true
   },
   "outputs": [],
   "source": [
    "Y_FULL_MOD = np.zeros((Y_FULL.shape[0], 10))\n",
    "for i in xrange(Y_FULL.shape[0]):\n",
    "    Y_FULL_MOD[i][int(Y_FULL[i])] = 1"
   ]
  },
  {
   "cell_type": "code",
   "execution_count": 8,
   "metadata": {
    "collapsed": false
   },
   "outputs": [],
   "source": [
    "X_TRAIN, X_TEST, Y_TRAIN, Y_TEST = train_test_split(\n",
    "      X_FULL, Y_FULL_MOD, test_size=0.33)"
   ]
  },
  {
   "cell_type": "code",
   "execution_count": 9,
   "metadata": {
    "collapsed": true
   },
   "outputs": [],
   "source": [
    "def print_work_time(func):\n",
    "    def wrapper(*args, **kwargs):\n",
    "        start = timer()\n",
    "        result = func(*args, **kwargs)\n",
    "        end = timer()\n",
    "        print(\"Execution take {}\".format(end - start))\n",
    "        return result\n",
    "    return wrapper"
   ]
  },
  {
   "cell_type": "code",
   "execution_count": 10,
   "metadata": {
    "collapsed": false
   },
   "outputs": [],
   "source": [
    "@print_work_time\n",
    "def learn_on_model(X, Y, model, X_test = None, Y_test = None, learning_rate = 1e-4, batch_size = 20, max_epoch_num = 50, min_loss = 1e-3):\n",
    "    loss = 1000\n",
    "    epoch_num = 0\n",
    "    loss_arr = np.zeros(max_epoch_num)\n",
    "    test_loss_arr = np.zeros(max_epoch_num) if not (type(X_test) is None) else None\n",
    "    \n",
    "    while loss > min_loss and epoch_num < max_epoch_num:\n",
    " \n",
    "        sys.stdout.write(\"Epoch {} ... \".format(epoch_num + 1))\n",
    "        for bn, start in enumerate(xrange(0, X_TRAIN.shape[0], batch_size)):\n",
    "            X_CUR = X[start:start + batch_size]\n",
    "            Y_CUR = Y[start:start + batch_size]   \n",
    "            loss = predictor.forward(X_CUR, Y_CUR)\n",
    "            predictor.backward(alpha = learning_rate)\n",
    "            \n",
    "\n",
    "        loss = predictor.forward(X, Y)\n",
    "        loss_arr[epoch_num] = loss\n",
    "        sys.stdout.write(\"Loss : {0:.2f}\\n\".format(loss))\n",
    "        if not (type(X_test) is None):\n",
    "            loss_s = predictor.forward(X_test, Y_test)\n",
    "            test_loss_arr[epoch_num] = loss_s\n",
    "            \n",
    "            \n",
    "        epoch_num += 1\n",
    "        \n",
    "\n",
    "\n",
    "    return loss_arr, test_loss_arr"
   ]
  },
  {
   "cell_type": "code",
   "execution_count": 14,
   "metadata": {
    "collapsed": true
   },
   "outputs": [],
   "source": [
    "def make_classification_report(model, X_TRAIN, Y_TRAIN, X_TEST, Y_TEST):\n",
    "    print (\"Train report\")\n",
    "    y_predicted = model.forward(X_TRAIN)\n",
    "\n",
    "    indices = np.argmax(y_predicted, 1)\n",
    "    real_indices = np.argmax( Y_TRAIN, 1)\n",
    "    print (classification_report(real_indices, indices))\n",
    "    \n",
    "    print (\"Test report\")\n",
    "    y_predicted = model.forward(X_TEST)\n",
    "    indices = np.argmax(y_predicted, 1)\n",
    "    real_indices = np.argmax(Y_TEST, 1)\n",
    "    print (classification_report(real_indices, indices))"
   ]
  },
  {
   "cell_type": "code",
   "execution_count": 15,
   "metadata": {
    "collapsed": false
   },
   "outputs": [
    {
     "name": "stdout",
     "output_type": "stream",
     "text": [
      "Train report\n",
      "             precision    recall  f1-score   support\n",
      "\n",
      "          0       0.98      0.99      0.99      4665\n",
      "          1       0.99      0.99      0.99      5316\n",
      "          2       0.97      0.98      0.97      4694\n",
      "          3       0.98      0.97      0.98      4772\n",
      "          4       0.97      0.98      0.98      4554\n",
      "          5       0.98      0.97      0.97      4186\n",
      "          6       0.98      0.99      0.98      4628\n",
      "          7       0.98      0.98      0.98      4896\n",
      "          8       0.97      0.98      0.98      4551\n",
      "          9       0.98      0.97      0.97      4638\n",
      "\n",
      "avg / total       0.98      0.98      0.98     46900\n",
      "\n",
      "Test report\n",
      "             precision    recall  f1-score   support\n",
      "\n",
      "          0       0.96      0.98      0.97      2238\n",
      "          1       0.98      0.98      0.98      2561\n",
      "          2       0.94      0.94      0.94      2296\n",
      "          3       0.94      0.93      0.94      2369\n",
      "          4       0.93      0.96      0.94      2270\n",
      "          5       0.95      0.92      0.93      2127\n",
      "          6       0.96      0.96      0.96      2248\n",
      "          7       0.96      0.95      0.96      2397\n",
      "          8       0.93      0.94      0.94      2274\n",
      "          9       0.93      0.93      0.93      2320\n",
      "\n",
      "avg / total       0.95      0.95      0.95     23100\n",
      "\n"
     ]
    },
    {
     "data": {
      "text/plain": [
       "<matplotlib.text.Text at 0x12135e2d0>"
      ]
     },
     "execution_count": 15,
     "metadata": {},
     "output_type": "execute_result"
    },
    {
     "data": {
      "image/png": "[encoded data removed]",
      "text/plain": [
       "<matplotlib.figure.Figure at 0x10b858d10>"
      ]
     },
     "metadata": {},
     "output_type": "display_data"
    }
   ],
   "source": [
    "predictor = nn.Sequential()\n",
    "predictor.add(nn.Linear(784, 250))\n",
    "predictor.add(nn.Tanh(250))\n",
    "predictor.add(nn.Linear(250, 10))\n",
    "predictor.add(nn.CrossEntropy (10))\n",
    "\n",
    "\n",
    "loss_arr, test_loss_arr = learn_on_model(X_TRAIN, Y_TRAIN, predictor, X_TEST, Y_TEST)\n",
    "make_classification_report(predictor, X_TRAIN, Y_TRAIN, X_TEST, Y_TEST)\n",
    "\n",
    "\n",
    "x = np.arange(loss_arr.shape[0])\n",
    "\n",
    "\n",
    "plt.plot(x, loss_arr, x, test_loss_arr)\n",
    "\n",
    "plt.legend([\"Train\", \"Test\"])\n",
    "plt.title(\"Learning ion MNIST\")\n",
    "plt.xlabel(\"Epoch num\")\n",
    "plt.ylabel(\"Loss\")"
   ]
  },
  {
   "cell_type": "markdown",
   "metadata": {},
   "source": [
    "Видим, что наша нейросеть смогла достаточно качественно распознавать цифры на изображениях. Кривая обучения достаточно гладкая, качество распознавания высокое. Таким образом hand-made сеть неплохо распознает цифры!) \n",
    "\n",
    "P.S Рассматривались и другие конфигурации сети, но особого улучшения на них получено не было. В данном отчете приведена одна из лучших попыток.\n",
    "\n",
    "Оказалось, что инициальныезначения весов в сети достаточно сильно влияют на способность сети обучаться и необходимо задавать их в районе $10^{-6}$, при больших значениях сеть начинала вести себя непредсказуемо. \n"
   ]
  },
  {
   "cell_type": "code",
   "execution_count": null,
   "metadata": {
    "collapsed": true
   },
   "outputs": [],
   "source": []
  }
 ],
 "metadata": {
  "anaconda-cloud": {},
  "kernelspec": {
   "display_name": "Python [conda root]",
   "language": "python",
   "name": "conda-root-py"
  },
  "language_info": {
   "codemirror_mode": {
    "name": "ipython",
    "version": 2
   },
   "file_extension": ".py",
   "mimetype": "text/x-python",
   "name": "python",
   "nbconvert_exporter": "python",
   "pygments_lexer": "ipython2",
   "version": "2.7.12"
  }
 },
 "nbformat": 4,
 "nbformat_minor": 1
}
