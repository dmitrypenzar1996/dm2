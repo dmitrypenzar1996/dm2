{
 "cells": [
  {
   "cell_type": "code",
   "execution_count": 1,
   "metadata": {
    "collapsed": false
   },
   "outputs": [],
   "source": [
    "import nn\n",
    "import sys\n",
    "import numpy as np\n",
    "reload(nn)\n",
    "from __future__ import absolute_import\n",
    "from __future__ import division\n",
    "from __future__ import print_function\n",
    "from sklearn.model_selection import train_test_split\n",
    "from sklearn.datasets import fetch_mldata\n",
    "from timeit import default_timer as timer \n",
    "from sklearn.metrics import classification_report\n",
    "import matplotlib\n",
    "import matplotlib.pyplot as plt\n",
    "%matplotlib inline  "
   ]
  },
  {
   "cell_type": "code",
   "execution_count": 2,
   "metadata": {
    "collapsed": false
   },
   "outputs": [],
   "source": [
    "mnist = fetch_mldata('MNIST original')"
   ]
  },
  {
   "cell_type": "code",
   "execution_count": 3,
   "metadata": {
    "collapsed": false
   },
   "outputs": [
    {
     "data": {
      "text/plain": [
       "(70000, 784)"
      ]
     },
     "execution_count": 3,
     "metadata": {},
     "output_type": "execute_result"
    }
   ],
   "source": [
    "mnist.data.shape"
   ]
  },
  {
   "cell_type": "code",
   "execution_count": 4,
   "metadata": {
    "collapsed": false
   },
   "outputs": [
    {
     "data": {
      "text/plain": [
       "(70000,)"
      ]
     },
     "execution_count": 4,
     "metadata": {},
     "output_type": "execute_result"
    }
   ],
   "source": [
    "mnist.target.shape"
   ]
  },
  {
   "cell_type": "code",
   "execution_count": 5,
   "metadata": {
    "collapsed": false
   },
   "outputs": [
    {
     "data": {
      "text/plain": [
       "array([ 0.,  1.,  2.,  3.,  4.,  5.,  6.,  7.,  8.,  9.])"
      ]
     },
     "execution_count": 5,
     "metadata": {},
     "output_type": "execute_result"
    }
   ],
   "source": [
    "np.unique(mnist.target)"
   ]
  },
  {
   "cell_type": "code",
   "execution_count": 6,
   "metadata": {
    "collapsed": false
   },
   "outputs": [],
   "source": [
    "X_FULL = mnist.data \n",
    "Y_FULL = mnist.target\n"
   ]
  },
  {
   "cell_type": "code",
   "execution_count": 7,
   "metadata": {
    "collapsed": true
   },
   "outputs": [],
   "source": [
    "Y_FULL_MOD = np.zeros((Y_FULL.shape[0], 10))\n",
    "for i in xrange(Y_FULL.shape[0]):\n",
    "    Y_FULL_MOD[i][int(Y_FULL[i])] = 1"
   ]
  },
  {
   "cell_type": "code",
   "execution_count": 8,
   "metadata": {
    "collapsed": false
   },
   "outputs": [],
   "source": [
    "X_TRAIN, X_TEST, Y_TRAIN, Y_TEST = train_test_split(\n",
    "      X_FULL, Y_FULL_MOD, test_size=0.33)"
   ]
  },
  {
   "cell_type": "code",
   "execution_count": 9,
   "metadata": {
    "collapsed": true
   },
   "outputs": [],
   "source": [
    "def print_work_time(func):\n",
    "    def wrapper(*args, **kwargs):\n",
    "        start = timer()\n",
    "        result = func(*args, **kwargs)\n",
    "        end = timer()\n",
    "        print(\"Execution take {}\".format(end - start))\n",
    "        return result\n",
    "    return wrapper"
   ]
  },
  {
   "cell_type": "code",
   "execution_count": 10,
   "metadata": {
    "collapsed": false
   },
   "outputs": [],
   "source": [
    "@print_work_time\n",
    "def learn_on_model(X, Y, model, X_test = None, Y_test = None, learning_rate = 1e-4, batch_size = 20, max_epoch_num = 50, min_loss = 1e-3):\n",
    "    loss = 1000\n",
    "    epoch_num = 0\n",
    "    loss_arr = np.zeros(max_epoch_num)\n",
    "    test_loss_arr = np.zeros(max_epoch_num) if not (type(X_test) is None) else None\n",
    "    \n",
    "    while loss > min_loss and epoch_num < max_epoch_num:\n",
    " \n",
    "        sys.stdout.write(\"Epoch {} ... \".format(epoch_num + 1))\n",
    "        for bn, start in enumerate(xrange(0, X_TRAIN.shape[0], batch_size)):\n",
    "            X_CUR = X[start:start + batch_size]\n",
    "            Y_CUR = Y[start:start + batch_size]   \n",
    "            loss = predictor.forward(X_CUR, Y_CUR)\n",
    "            predictor.backward(alpha = learning_rate)\n",
    "            \n",
    "\n",
    "        loss = predictor.forward(X, Y)\n",
    "        loss_arr[epoch_num] = loss\n",
    "        sys.stdout.write(\"Loss : {0:.2f}\\n\".format(loss))\n",
    "        if not (type(X_test) is None):\n",
    "            loss_s = predictor.forward(X_test, Y_test)\n",
    "            test_loss_arr[epoch_num] = loss_s\n",
    "            \n",
    "            \n",
    "        epoch_num += 1\n",
    "        \n",
    "\n",
    "\n",
    "    return loss_arr, test_loss_arr"
   ]
  },
  {
   "cell_type": "code",
   "execution_count": 11,
   "metadata": {
    "collapsed": true
   },
   "outputs": [],
   "source": [
    "def make_classification_report(model, X_TRAIN, Y_TRAIN, X_TEST, Y_TEST):\n",
    "    print (\"Train report\")\n",
    "    y_predicted = model.forward(X_TRAIN)\n",
    "\n",
    "    indices = np.argmax(y_predicted, 1)\n",
    "    real_indices = np.argmax( Y_TRAIN, 1)\n",
    "    print (classification_report(real_indices, indices))\n",
    "    \n",
    "    print (\"Test report\")\n",
    "    y_predicted = model.forward(X_TEST)\n",
    "    indices = np.argmax(y_predicted, 1)\n",
    "    real_indices = np.argmax(Y_TEST, 1)\n",
    "    print (classification_report(real_indices, indices))"
   ]
  },
  {
   "cell_type": "code",
   "execution_count": 45,
   "metadata": {
    "collapsed": false,
    "scrolled": true
   },
   "outputs": [
    {
     "name": "stdout",
     "output_type": "stream",
     "text": [
      "Epoch 1 ... Loss : 55503.58\n",
      "Epoch 2 ... Loss : 33117.85\n",
      "Epoch 3 ... Loss : 23812.52\n",
      "Epoch 4 ... Loss : 19145.05\n",
      "Epoch 5 ... Loss : 16421.02\n",
      "Epoch 6 ... Loss : 14635.71\n",
      "Epoch 7 ... Loss : 13325.39\n",
      "Epoch 8 ... Loss : 12314.53\n",
      "Epoch 9 ... Loss : 11526.12\n",
      "Epoch 10 ... Loss : 10876.46\n",
      "Epoch 11 ... Loss : 10332.48\n",
      "Epoch 12 ... Loss : 9863.78\n",
      "Epoch 13 ... Loss : 9452.20\n",
      "Epoch 14 ... Loss : 9107.56\n",
      "Epoch 15 ... Loss : 8772.87\n",
      "Epoch 16 ... Loss : 8470.00\n",
      "Epoch 17 ... Loss : 8201.01\n",
      "Epoch 18 ... Loss : 7954.71\n",
      "Epoch 19 ... Loss : 7734.29\n",
      "Epoch 20 ... Loss : 7528.62\n",
      "Epoch 21 ... Loss : 7335.68\n",
      "Epoch 22 ... Loss : 7149.16\n",
      "Epoch 23 ... Loss : 6968.80\n",
      "Epoch 24 ... Loss : 6814.09\n",
      "Epoch 25 ... Loss : 6664.38\n",
      "Epoch 26 ... Loss : 6526.94\n",
      "Epoch 27 ... Loss : 6393.06\n",
      "Epoch 28 ... Loss : 6274.22\n",
      "Epoch 29 ... Loss : 6156.76\n",
      "Epoch 30 ... Loss : 6035.23\n",
      "Epoch 31 ... Loss : 5918.50\n",
      "Epoch 32 ... Loss : 5810.36\n",
      "Epoch 33 ... Loss : 5709.10\n",
      "Epoch 34 ... Loss : 5609.28\n",
      "Epoch 35 ... Loss : 5522.26\n",
      "Epoch 36 ... Loss : 5436.69\n",
      "Epoch 37 ... Loss : 5351.19\n",
      "Epoch 38 ... Loss : 5266.15\n",
      "Epoch 39 ... Loss : 5189.48\n",
      "Epoch 40 ... Loss : 5114.39\n",
      "Epoch 41 ... Loss : 5042.62\n",
      "Epoch 42 ... Loss : 4975.77\n",
      "Epoch 43 ... Loss : 4911.21\n",
      "Epoch 44 ... Loss : 4848.33\n",
      "Epoch 45 ... Loss : 4782.91\n",
      "Epoch 46 ... Loss : 4723.73\n",
      "Epoch 47 ... Loss : 4666.30\n",
      "Epoch 48 ... Loss : 4613.28\n",
      "Epoch 49 ... Loss : 4562.80\n",
      "Epoch 50 ... Loss : 4510.83\n",
      "Execution take 668.728688955\n",
      "Train report\n",
      "             precision    recall  f1-score   support\n",
      "\n",
      "          0       0.98      0.99      0.99      4664\n",
      "          1       0.99      0.99      0.99      5241\n",
      "          2       0.97      0.97      0.97      4711\n",
      "          3       0.98      0.96      0.97      4770\n",
      "          4       0.97      0.98      0.97      4532\n",
      "          5       0.97      0.97      0.97      4184\n",
      "          6       0.98      0.99      0.98      4554\n",
      "          7       0.98      0.98      0.98      4932\n",
      "          8       0.97      0.98      0.97      4592\n",
      "          9       0.97      0.97      0.97      4720\n",
      "\n",
      "avg / total       0.98      0.98      0.98     46900\n",
      "\n",
      "Test report\n",
      "             precision    recall  f1-score   support\n",
      "\n",
      "          0       0.96      0.98      0.97      2239\n",
      "          1       0.98      0.98      0.98      2636\n",
      "          2       0.95      0.94      0.94      2279\n",
      "          3       0.95      0.92      0.94      2371\n",
      "          4       0.93      0.96      0.95      2292\n",
      "          5       0.93      0.92      0.92      2129\n",
      "          6       0.96      0.96      0.96      2322\n",
      "          7       0.96      0.95      0.96      2361\n",
      "          8       0.93      0.93      0.93      2233\n",
      "          9       0.93      0.93      0.93      2238\n",
      "\n",
      "avg / total       0.95      0.95      0.95     23100\n",
      "\n"
     ]
    }
   ],
   "source": [
    "predictor = nn.Sequential()\n",
    "predictor.add(nn.Linear(784, 250))\n",
    "predictor.add(nn.Tanh(250))\n",
    "predictor.add(nn.Linear(250, 10))\n",
    "predictor.add(nn.CrossEntropy (10))\n",
    "\n",
    "\n",
    "loss_arr, test_loss_arr = learn_on_model(X_TRAIN, Y_TRAIN, predictor, X_TEST, Y_TEST)\n",
    "make_classification_report(predictor, X_TRAIN, Y_TRAIN, X_TEST, Y_TEST)\n",
    "\n"
   ]
  },
  {
   "cell_type": "code",
   "execution_count": 53,
   "metadata": {
    "collapsed": false
   },
   "outputs": [
    {
     "data": {
      "text/plain": [
       "<matplotlib.text.Text at 0x11961a810>"
      ]
     },
     "execution_count": 53,
     "metadata": {},
     "output_type": "execute_result"
    },
    {
     "data": {
      "image/png": "[encoded data removed]",
      "text/plain": [
       "<matplotlib.figure.Figure at 0x11ceab950>"
      ]
     },
     "metadata": {},
     "output_type": "display_data"
    }
   ],
   "source": [
    "from sklearn import linear_model\n",
    "from sklearn.metrics import log_loss\n",
    "log_model = linear_model.LogisticRegression()\n",
    "\n",
    "y_test = Y_TEST.argmax(axis = 1)\n",
    "y_train = Y_TRAIN.argmax(axis = 1)\n",
    "\n",
    "log_model.fit(X_TRAIN, y_train)\n",
    "log_train = log_loss(y_train, log_model.predict_proba(X_TRAIN))\n",
    "log_test =  log_loss(y_test, log_model.predict_proba(X_TEST))\n",
    "\n",
    "\n",
    "x = np.arange(loss_arr.shape[0])\n",
    "plt.plot(x, loss_arr / X_TRAIN.shape[0], x, test_loss_arr / X_TEST.shape[0], x,  \n",
    "         np.full(loss_arr.shape[0], log_train),\n",
    "        x, np.full(loss_arr.shape[0], log_test))\n",
    "\n",
    "plt.legend([\"Network Train\", \"Network Test\", \"Logistic regression Train\",\n",
    "           \"Loogistic regression Test\"])\n",
    "plt.title(\"Learning ion MNIST\")\n",
    "plt.xlabel(\"Epoch num\")\n",
    "plt.ylabel(\"Loss\")"
   ]
  },
  {
   "cell_type": "markdown",
   "metadata": {},
   "source": [
    "Видим, что наша нейросеть смогла достаточно качественно распознавать цифры на изображениях. Кривая обучения достаточно гладкая, качество распознавания высокое. Таким образом hand-made сеть неплохо распознает цифры!) \n",
    "\n",
    "P.S Рассматривались и другие конфигурации сети, но особого улучшения на них получено не было. В данном отчете приведена одна из лучших попыток.\n",
    "\n",
    "Оказалось, что инициальные значения весов в сети достаточно сильно влияют на способность сети обучаться и необходимо задавать их в районе $10^{-6}$, при больших значениях сеть начинала вести себя непредсказуемо. \n",
    "\n",
    "Видим, что нейросеть обучилась значительно лучше, нежели логистическая регрессия. "
   ]
  }
 ],
 "metadata": {
  "anaconda-cloud": {},
  "kernelspec": {
   "display_name": "Python [conda root]",
   "language": "python",
   "name": "conda-root-py"
  },
  "language_info": {
   "codemirror_mode": {
    "name": "ipython",
    "version": 2
   },
   "file_extension": ".py",
   "mimetype": "text/x-python",
   "name": "python",
   "nbconvert_exporter": "python",
   "pygments_lexer": "ipython2",
   "version": "2.7.12"
  }
 },
 "nbformat": 4,
 "nbformat_minor": 1
}
