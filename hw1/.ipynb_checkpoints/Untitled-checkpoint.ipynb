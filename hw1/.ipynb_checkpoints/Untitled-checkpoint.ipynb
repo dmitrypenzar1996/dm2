{
 "cells": [
  {
   "cell_type": "code",
   "execution_count": 10,
   "metadata": {
    "collapsed": false
   },
   "outputs": [],
   "source": [
    "import nn\n",
    "import numpy as np\n",
    "reload(nn)\n",
    "from __future__ import absolute_import\n",
    "from __future__ import division\n",
    "from __future__ import print_function"
   ]
  },
  {
   "cell_type": "code",
   "execution_count": 11,
   "metadata": {
    "collapsed": true
   },
   "outputs": [],
   "source": [
    "from sklearn.datasets import fetch_mldata"
   ]
  },
  {
   "cell_type": "code",
   "execution_count": 12,
   "metadata": {
    "collapsed": false
   },
   "outputs": [],
   "source": [
    "mnist = fetch_mldata('MNIST original')"
   ]
  },
  {
   "cell_type": "code",
   "execution_count": 13,
   "metadata": {
    "collapsed": false
   },
   "outputs": [
    {
     "data": {
      "text/plain": [
       "(70000, 784)"
      ]
     },
     "execution_count": 13,
     "metadata": {},
     "output_type": "execute_result"
    }
   ],
   "source": [
    "mnist.data.shape"
   ]
  },
  {
   "cell_type": "code",
   "execution_count": 14,
   "metadata": {
    "collapsed": false
   },
   "outputs": [
    {
     "data": {
      "text/plain": [
       "(70000,)"
      ]
     },
     "execution_count": 14,
     "metadata": {},
     "output_type": "execute_result"
    }
   ],
   "source": [
    "mnist.target.shape"
   ]
  },
  {
   "cell_type": "code",
   "execution_count": 15,
   "metadata": {
    "collapsed": false
   },
   "outputs": [
    {
     "data": {
      "text/plain": [
       "array([ 0.,  1.,  2.,  3.,  4.,  5.,  6.,  7.,  8.,  9.])"
      ]
     },
     "execution_count": 15,
     "metadata": {},
     "output_type": "execute_result"
    }
   ],
   "source": [
    "np.unique(mnist.target)"
   ]
  },
  {
   "cell_type": "code",
   "execution_count": 16,
   "metadata": {
    "collapsed": false
   },
   "outputs": [
    {
     "data": {
      "text/plain": [
       "<nn.linear.Linear at 0x10b559190>"
      ]
     },
     "execution_count": 16,
     "metadata": {},
     "output_type": "execute_result"
    }
   ],
   "source": [
    "nn.Linear(784, 9)"
   ]
  },
  {
   "cell_type": "code",
   "execution_count": 26,
   "metadata": {
    "collapsed": true
   },
   "outputs": [],
   "source": [
    "predictor = nn.Sequential()"
   ]
  },
  {
   "cell_type": "code",
   "execution_count": 27,
   "metadata": {
    "collapsed": false
   },
   "outputs": [],
   "source": [
    "predictor.add(nn.Linear(784, 50))\n",
    "predictor.add(nn.Sigmoid(50))\n",
    "predictor.add(nn.Linear(50, 10))\n",
    "predictor.add(nn.CrossEntropy(10))\n",
    "\n",
    "#predictor.forward(mnist.data[0], np.random.randn(10))"
   ]
  },
  {
   "cell_type": "code",
   "execution_count": 31,
   "metadata": {
    "collapsed": false
   },
   "outputs": [
    {
     "name": "stdout",
     "output_type": "stream",
     "text": [
      "Start new iter\n",
      "0.00 done. Cur loss is 0.287\n",
      "Max:  0.286582973712  Mean 0.0455803343889\n",
      "Start new iter\n",
      "0.00 done. Cur loss is 0.013\n",
      "Max:  0.0134500781967  Mean 0.0112286958413\n",
      "Start new iter\n",
      "0.00 done. Cur loss is 0.009\n",
      "Max:  0.0098197435566  Mean 0.00888281833689\n"
     ]
    }
   ],
   "source": [
    "X = mnist.data[1:300]\n",
    "Y = mnist.target[1:300]\n",
    "max_iter_num = 10\n",
    "cur_iter= 0\n",
    "\n",
    "alpha = 1e-2\n",
    "mean_loss = 1\n",
    "while cur_iter < max_iter_num and mean_loss >= 0.01:\n",
    "    sm_loss = 0\n",
    "    alpha /= np.log(10)\n",
    "    max_loss = 0\n",
    "    print (\"Start new iter\")\n",
    "    for i in range(X.shape[0]):\n",
    "        real = np.zeros(10)\n",
    "        real[int(Y[i])] = 1\n",
    "        #predictor.forward(mnist.data[i], real)\n",
    "        loss = predictor.forward(X[i], real)\n",
    "        sm_loss += loss\n",
    "        if loss > max_loss:\n",
    "            max_loss = loss\n",
    "        if i % 1000 == 0:\n",
    "            print (\"{:.2f} done. Cur loss is {:.3f}\".format(i / X.shape[0], loss))\n",
    "        predictor.backward(real, alpha = alpha)\n",
    "    cur_iter += 1\n",
    "    mean_loss = sm_loss / X.shape[0]\n",
    "    print(\"Max: \", max_loss, \" Mean\", mean_loss)"
   ]
  },
  {
   "cell_type": "code",
   "execution_count": 33,
   "metadata": {
    "collapsed": false
   },
   "outputs": [
    {
     "name": "stdout",
     "output_type": "stream",
     "text": [
      "[  0   0   0   0   0   0   0   0   0   0   0   0   0   0   0   0   0   0\n",
      "   0   0   0   0   0   0   0   0   0   0   0   0   0   0   0   0   0   0\n",
      "   0   0   0   0   0   0   0   0   0   0   0   0   0   0   0   0   0   0\n",
      "   0   0   0   0   0   0   0   0   0   0   0   0   0   0   0   0   0   0\n",
      "   0   0   0   0   0   0   0   0   0   0   0   0   0   0   0   0   0   0\n",
      "   0   0   0   0   0   0   0   0   0   0   0   0   0   0   0   0   0   0\n",
      "   0   0   0   0   0   0   0   0   0   0   0   0   0   0   0   0   0   0\n",
      "   0   0   0 169 253  62   0   0   0   0   0   0   0   0   0   0   0   0\n",
      "   0   0   0   0   0   0   0   0   0   0   0   0   0  90 252 141   0   0\n",
      "   0   0   0   0   0   0   0   0   0   0   0   0   0   0   0   0   0   0\n",
      "   0   0   0  52 135 237 252 250  67   0   0   0   0   0   0   0   0   0\n",
      "   0   0   0   0   0   0   0   0   0   0   0   0 126 232 252 252 252 253\n",
      " 168   0   0   0   0   0   0   0   0   0   0   0   0   0   0   0   0   0\n",
      "   0   0   0 177 253 252 252 252 252 253 168   0   0   0   0   0   0   0\n",
      "   0   0   0   0   0   0   0   0   0   0   0  13 218 253 254 239 158 106\n",
      " 106 254 168   0   0   0   0   0   0   0   0   0   0   0   0   0   0   0\n",
      "   0   0   0 136 252 252 239  68   0   0   0 253 196   7   0   0   0   0\n",
      "   0   0   0   0   0   0   0   0   0   0   0   4 136 251 252 244  62   0\n",
      "   0   0   0 253 252  21   0   0   0   0   0   0   0   0   0   0   0   0\n",
      "   0   0   0 114 252 252 236  66   0   0   0   0   0 253 252  21   0   0\n",
      "   0   0   0   0   0   0   0   0   0   0   0   0   0 192 252 244  66   0\n",
      "   0   0   0   0  89 253 182   4   0   0   0   0   0   0   0   0   0   0\n",
      "   0   0   0   0 212 254 253 152   0   0   0   0   0   0 107 255 168   0\n",
      "   0   0   0   0   0   0   0   0   0   0   0   0   0  84 242 253 189   5\n",
      "   0   0   0   0   0   0 185 253 168   0   0   0   0   0   0   0   0   0\n",
      "   0   0   0   0  20 246 252 223  40   0   0   0   0   0   0   6 215 253\n",
      " 159   0   0   0   0   0   0   0   0   0   0   0   0   0  22 252 252 106\n",
      "   0   0   0   0   0   0   0  91 252 243  47   0   0   0   0   0   0   0\n",
      "   0   0   0   0   0   0 110 252 252  62   0   0   0   0   0   0  18 239\n",
      " 252 167   0   0   0   0   0   0   0   0   0   0   0   0   0   0 128 253\n",
      " 253   0   0   0   0   0   0  68 201 253 253  45   0   0   0   0   0   0\n",
      "   0   0   0   0   0   0   0   0  48 252 252  80   0   0   0   0  68 237\n",
      " 252 252  94   0   0   0   0   0   0   0   0   0   0   0   0   0   0   0\n",
      "  20 245 252 180  92  22  48 127 245 252 242 100   4   0   0   0   0   0\n",
      "   0   0   0   0   0   0   0   0   0   0   0  83 242 253 252 252 252 252\n",
      " 253 205  86   0   0   0   0   0   0   0   0   0   0   0   0   0   0   0\n",
      "   0   0   0   0  35 104 182 252 252 164  86  11   0   0   0   0   0   0\n",
      "   0   0   0   0   0   0   0   0   0   0   0   0   0   0   0   0   0   0\n",
      "   0   0   0   0   0   0   0   0   0   0   0   0   0   0   0   0   0   0\n",
      "   0   0   0   0   0   0   0   0   0   0   0   0   0   0   0   0   0   0\n",
      "   0   0   0   0   0   0   0   0   0   0   0   0   0   0   0   0   0   0\n",
      "   0   0   0   0   0   0   0   0   0   0   0   0   0   0   0   0   0   0\n",
      "   0   0   0   0   0   0   0   0   0   0   0   0   0   0   0   0   0   0\n",
      "   0   0   0   0   0   0   0   0   0   0] 0.0 -0.0\n"
     ]
    }
   ],
   "source": [
    "print (mnist.data[301],   mnist.target[301], predictor.forward(mnist.data[301], 0))\n",
    "print (predictor.layer[-2].output)"
   ]
  },
  {
   "cell_type": "code",
   "execution_count": null,
   "metadata": {
    "collapsed": true
   },
   "outputs": [],
   "source": []
  }
 ],
 "metadata": {
  "anaconda-cloud": {},
  "kernelspec": {
   "display_name": "Python [conda root]",
   "language": "python",
   "name": "conda-root-py"
  },
  "language_info": {
   "codemirror_mode": {
    "name": "ipython",
    "version": 2
   },
   "file_extension": ".py",
   "mimetype": "text/x-python",
   "name": "python",
   "nbconvert_exporter": "python",
   "pygments_lexer": "ipython2",
   "version": "2.7.12"
  }
 },
 "nbformat": 4,
 "nbformat_minor": 1
}
