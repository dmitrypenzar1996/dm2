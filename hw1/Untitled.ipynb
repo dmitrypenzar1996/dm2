{
 "cells": [
  {
   "cell_type": "code",
   "execution_count": 1,
   "metadata": {
    "collapsed": false
   },
   "outputs": [],
   "source": [
    "import nn\n",
    "import numpy as np\n",
    "reload(nn)\n",
    "from __future__ import absolute_import\n",
    "from __future__ import division\n",
    "from __future__ import print_function"
   ]
  },
  {
   "cell_type": "code",
   "execution_count": 2,
   "metadata": {
    "collapsed": true
   },
   "outputs": [],
   "source": [
    "from sklearn.datasets import fetch_mldata"
   ]
  },
  {
   "cell_type": "code",
   "execution_count": 3,
   "metadata": {
    "collapsed": false
   },
   "outputs": [],
   "source": [
    "mnist = fetch_mldata('MNIST original')"
   ]
  },
  {
   "cell_type": "code",
   "execution_count": 4,
   "metadata": {
    "collapsed": false
   },
   "outputs": [
    {
     "data": {
      "text/plain": [
       "(70000, 784)"
      ]
     },
     "execution_count": 4,
     "metadata": {},
     "output_type": "execute_result"
    }
   ],
   "source": [
    "mnist.data.shape"
   ]
  },
  {
   "cell_type": "code",
   "execution_count": 5,
   "metadata": {
    "collapsed": false
   },
   "outputs": [
    {
     "data": {
      "text/plain": [
       "(70000,)"
      ]
     },
     "execution_count": 5,
     "metadata": {},
     "output_type": "execute_result"
    }
   ],
   "source": [
    "mnist.target.shape"
   ]
  },
  {
   "cell_type": "code",
   "execution_count": 6,
   "metadata": {
    "collapsed": false
   },
   "outputs": [
    {
     "data": {
      "text/plain": [
       "array([ 0.,  1.,  2.,  3.,  4.,  5.,  6.,  7.,  8.,  9.])"
      ]
     },
     "execution_count": 6,
     "metadata": {},
     "output_type": "execute_result"
    }
   ],
   "source": [
    "np.unique(mnist.target)"
   ]
  },
  {
   "cell_type": "code",
   "execution_count": 7,
   "metadata": {
    "collapsed": false
   },
   "outputs": [
    {
     "data": {
      "text/plain": [
       "<nn.linear.Linear at 0x10b624890>"
      ]
     },
     "execution_count": 7,
     "metadata": {},
     "output_type": "execute_result"
    }
   ],
   "source": [
    "nn.Linear(784, 9)"
   ]
  },
  {
   "cell_type": "code",
   "execution_count": 23,
   "metadata": {
    "collapsed": true
   },
   "outputs": [],
   "source": [
    "predictor = nn.Sequential()"
   ]
  },
  {
   "cell_type": "code",
   "execution_count": 24,
   "metadata": {
    "collapsed": false
   },
   "outputs": [],
   "source": [
    "predictor.add(nn.Linear(784, 250))\n",
    "predictor.add(nn.Sigmoid(250))\n",
    "predictor.add(nn.Linear(250, 100))\n",
    "predictor.add(nn.Sigmoid(100))\n",
    "predictor.add(nn.Linear(100, 10))\n",
    "predictor.add(nn.SoftMax(10))\n",
    "predictor.add(nn.NegativeLogLikelihood(10))\n",
    "\n",
    "#predictor.forward(mnist.data[0], np.random.randn(10))"
   ]
  },
  {
   "cell_type": "code",
   "execution_count": 25,
   "metadata": {
    "collapsed": true
   },
   "outputs": [],
   "source": [
    "ind = np.random.choice(mnist.data.shape[0], 300)\n",
    "X = mnist.data[ind]\n",
    "Y = mnist.target[ind]"
   ]
  },
  {
   "cell_type": "code",
   "execution_count": null,
   "metadata": {
    "collapsed": false
   },
   "outputs": [
    {
     "name": "stdout",
     "output_type": "stream",
     "text": [
      "Start new iter\n",
      "0.00 done. Cur loss is 2.706\n",
      "0.03 done. Cur loss is 2.293\n",
      "0.07 done. Cur loss is 2.790\n",
      "0.10 done. Cur loss is 1.847\n",
      "0.13 done. Cur loss is 2.373\n",
      "0.17 done. Cur loss is 2.973\n",
      "0.20 done. Cur loss is 1.978\n",
      "0.23 done. Cur loss is 2.265\n",
      "0.27 done. Cur loss is 2.206\n",
      "0.30 done. Cur loss is 2.057\n",
      "0.33 done. Cur loss is 3.056\n",
      "0.37 done. Cur loss is 1.907\n",
      "0.40 done. Cur loss is 2.133\n",
      "0.43 done. Cur loss is 2.183\n",
      "0.47 done. Cur loss is 1.817\n",
      "0.50 done. Cur loss is 2.954\n",
      "0.53 done. Cur loss is 1.904\n",
      "0.57 done. Cur loss is 2.023\n",
      "0.60 done. Cur loss is 2.642\n",
      "0.63 done. Cur loss is 2.585\n",
      "0.67 done. Cur loss is 2.444\n",
      "0.70 done. Cur loss is 2.327\n",
      "0.73 done. Cur loss is 2.307\n",
      "0.77 done. Cur loss is 2.338\n",
      "0.80 done. Cur loss is 2.925\n",
      "0.83 done. Cur loss is 2.024\n",
      "0.87 done. Cur loss is 2.279\n",
      "0.90 done. Cur loss is 1.958\n",
      "0.93 done. Cur loss is 2.101\n",
      "0.97 done. Cur loss is 1.849\n",
      "Max:  3.17646679335  Mean 2.34689169017\n",
      "Start new iter\n",
      "0.00 done. Cur loss is 2.178\n",
      "0.03 done. Cur loss is 2.538\n",
      "0.07 done. Cur loss is 2.710\n",
      "0.10 done. Cur loss is 2.023\n",
      "0.13 done. Cur loss is 2.165\n",
      "0.17 done. Cur loss is 3.082\n",
      "0.20 done. Cur loss is 2.062\n",
      "0.23 done. Cur loss is 2.163\n",
      "0.27 done. Cur loss is 2.155\n",
      "0.30 done. Cur loss is 2.331\n",
      "0.33 done. Cur loss is 2.829\n",
      "0.37 done. Cur loss is 1.907\n",
      "0.40 done. Cur loss is 2.159\n",
      "0.43 done. Cur loss is 2.218\n",
      "0.47 done. Cur loss is 1.880\n",
      "0.50 done. Cur loss is 2.847\n",
      "0.53 done. Cur loss is 1.958\n",
      "0.57 done. Cur loss is 2.046\n",
      "0.60 done. Cur loss is 2.605\n",
      "0.63 done. Cur loss is 2.557\n",
      "0.67 done. Cur loss is 2.452\n",
      "0.70 done. Cur loss is 2.326\n",
      "0.73 done. Cur loss is 2.310\n",
      "0.77 done. Cur loss is 2.347\n",
      "0.80 done. Cur loss is 2.877\n",
      "0.83 done. Cur loss is 2.046\n",
      "0.87 done. Cur loss is 2.288\n",
      "0.90 done. Cur loss is 1.977\n",
      "0.93 done. Cur loss is 2.111\n",
      "0.97 done. Cur loss is 1.904\n",
      "Max:  3.22626775942  Mean 2.34426243152\n",
      "Start new iter\n",
      "0.00 done. Cur loss is 2.196\n",
      "0.03 done. Cur loss is 2.507\n",
      "0.07 done. Cur loss is 2.689\n",
      "0.10 done. Cur loss is 2.052\n",
      "0.13 done. Cur loss is 2.167\n",
      "0.17 done. Cur loss is 3.034\n",
      "0.20 done. Cur loss is 2.112\n",
      "0.23 done. Cur loss is 2.150\n",
      "0.27 done. Cur loss is 2.111\n",
      "0.30 done. Cur loss is 2.384\n",
      "0.33 done. Cur loss is 2.753\n",
      "0.37 done. Cur loss is 1.924\n",
      "0.40 done. Cur loss is 2.181\n",
      "0.43 done. Cur loss is 2.242\n",
      "0.47 done. Cur loss is 1.936\n",
      "0.50 done. Cur loss is 2.798\n",
      "0.53 done. Cur loss is 1.995\n",
      "0.57 done. Cur loss is 2.060\n",
      "0.60 done. Cur loss is 2.607\n",
      "0.63 done. Cur loss is 2.562\n",
      "0.67 done. Cur loss is 2.465\n",
      "0.70 done. Cur loss is 2.327\n",
      "0.73 done. Cur loss is 2.311\n",
      "0.77 done. Cur loss is 2.370\n",
      "0.80 done. Cur loss is 2.833\n",
      "0.83 done. Cur loss is 2.078\n"
     ]
    }
   ],
   "source": [
    "max_iter_num = 10\n",
    "cur_iter= 0\n",
    "\n",
    "alpha = 1e-2\n",
    "mean_loss = 1e-1\n",
    "while cur_iter < max_iter_num and mean_loss >= 0.01:\n",
    "    sm_loss = 0\n",
    "    #alpha /= np.log(2)\n",
    "    max_loss = 0\n",
    "    print (\"Start new iter\")\n",
    "    for i in range(X.shape[0]):\n",
    "        real = np.zeros(10)\n",
    "        real[int(Y[i])] = 1\n",
    "        loss = predictor.forward(X[i], real)\n",
    "        sm_loss += loss\n",
    "        if loss > max_loss:\n",
    "            max_loss = loss\n",
    "        if i % 10 == 0:\n",
    "            print (\"{:.2f} done. Cur loss is {:.3f}\".format(i / X.shape[0], loss))\n",
    "        predictor.backward(real, alpha = alpha)\n",
    "    cur_iter += 1\n",
    "    mean_loss = sm_loss / X.shape[0]\n",
    "    print(\"Max: \", max_loss, \" Mean\", mean_loss)"
   ]
  },
  {
   "cell_type": "markdown",
   "metadata": {
    "collapsed": false
   },
   "source": [
    "К сожалению, видим, что хорошо обучиться не получается(.\n"
   ]
  },
  {
   "cell_type": "code",
   "execution_count": 13,
   "metadata": {
    "collapsed": false
   },
   "outputs": [
    {
     "name": "stdout",
     "output_type": "stream",
     "text": [
      "[ 0.10490693  0.111859    0.07482203  0.12385518  0.11954084  0.08090852\n",
      "  0.10138522  0.07985558  0.09984357  0.10302314]\n",
      "1.0\n"
     ]
    }
   ],
   "source": [
    "\n"
   ]
  },
  {
   "cell_type": "code",
   "execution_count": null,
   "metadata": {
    "collapsed": true
   },
   "outputs": [],
   "source": []
  }
 ],
 "metadata": {
  "anaconda-cloud": {},
  "kernelspec": {
   "display_name": "Python [conda root]",
   "language": "python",
   "name": "conda-root-py"
  },
  "language_info": {
   "codemirror_mode": {
    "name": "ipython",
    "version": 2
   },
   "file_extension": ".py",
   "mimetype": "text/x-python",
   "name": "python",
   "nbconvert_exporter": "python",
   "pygments_lexer": "ipython2",
   "version": "2.7.12"
  }
 },
 "nbformat": 4,
 "nbformat_minor": 1
}
