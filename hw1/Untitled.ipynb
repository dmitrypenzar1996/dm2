{
 "cells": [
  {
   "cell_type": "code",
   "execution_count": 10,
   "metadata": {
    "collapsed": false
   },
   "outputs": [],
   "source": [
    "import nn\n",
    "import numpy as np\n",
    "reload(nn)\n",
    "from __future__ import absolute_import\n",
    "from __future__ import division\n",
    "from __future__ import print_function"
   ]
  },
  {
   "cell_type": "code",
   "execution_count": 11,
   "metadata": {
    "collapsed": true
   },
   "outputs": [],
   "source": [
    "from sklearn.datasets import fetch_mldata"
   ]
  },
  {
   "cell_type": "code",
   "execution_count": 12,
   "metadata": {
    "collapsed": false
   },
   "outputs": [],
   "source": [
    "mnist = fetch_mldata('MNIST original')"
   ]
  },
  {
   "cell_type": "code",
   "execution_count": 13,
   "metadata": {
    "collapsed": false
   },
   "outputs": [
    {
     "data": {
      "text/plain": [
       "(70000, 784)"
      ]
     },
     "execution_count": 13,
     "metadata": {},
     "output_type": "execute_result"
    }
   ],
   "source": [
    "mnist.data.shape"
   ]
  },
  {
   "cell_type": "code",
   "execution_count": 14,
   "metadata": {
    "collapsed": false
   },
   "outputs": [
    {
     "data": {
      "text/plain": [
       "(70000,)"
      ]
     },
     "execution_count": 14,
     "metadata": {},
     "output_type": "execute_result"
    }
   ],
   "source": [
    "mnist.target.shape"
   ]
  },
  {
   "cell_type": "code",
   "execution_count": 15,
   "metadata": {
    "collapsed": false
   },
   "outputs": [
    {
     "data": {
      "text/plain": [
       "array([ 0.,  1.,  2.,  3.,  4.,  5.,  6.,  7.,  8.,  9.])"
      ]
     },
     "execution_count": 15,
     "metadata": {},
     "output_type": "execute_result"
    }
   ],
   "source": [
    "np.unique(mnist.target)"
   ]
  },
  {
   "cell_type": "code",
   "execution_count": 16,
   "metadata": {
    "collapsed": false
   },
   "outputs": [
    {
     "data": {
      "text/plain": [
       "<nn.linear.Linear at 0x10b559190>"
      ]
     },
     "execution_count": 16,
     "metadata": {},
     "output_type": "execute_result"
    }
   ],
   "source": [
    "nn.Linear(784, 9)"
   ]
  },
  {
   "cell_type": "code",
   "execution_count": 26,
   "metadata": {
    "collapsed": true
   },
   "outputs": [],
   "source": [
    "predictor = nn.Sequential()"
   ]
  },
  {
   "cell_type": "code",
   "execution_count": 27,
   "metadata": {
    "collapsed": false
   },
   "outputs": [],
   "source": [
    "predictor.add(nn.Linear(784, 50))\n",
    "predictor.add(nn.Sigmoid(50))\n",
    "predictor.add(nn.Linear(50, 10))\n",
    "predictor.add(nn.CrossEntropy(10))\n",
    "\n",
    "#predictor.forward(mnist.data[0], np.random.randn(10))"
   ]
  },
  {
   "cell_type": "code",
   "execution_count": 30,
   "metadata": {
    "collapsed": false
   },
   "outputs": [
    {
     "name": "stdout",
     "output_type": "stream",
     "text": [
      "Start new iter\n",
      "0.00 done. Cur loss is 0.392\n",
      "Max:  0.401153967397  Mean 0.358139450381\n",
      "Start new iter\n",
      "0.00 done. Cur loss is 0.326\n",
      "Max:  0.344531450816  Mean 0.31454657233\n",
      "Start new iter\n",
      "0.00 done. Cur loss is 0.303\n",
      "Max:  0.325581953056  Mean 0.298470656893\n",
      "Start new iter\n",
      "0.00 done. Cur loss is 0.293\n",
      "Max:  0.31789949606  Mean 0.291944176669\n",
      "Start new iter\n",
      "0.00 done. Cur loss is 0.289\n",
      "Max:  0.314659430025  Mean 0.289189791057\n",
      "Start new iter\n",
      "0.00 done. Cur loss is 0.288\n",
      "Max:  0.313269941194  Mean 0.288008224835\n",
      "Start new iter\n",
      "0.00 done. Cur loss is 0.287\n",
      "Max:  0.312669781763  Mean 0.28749780448\n",
      "Start new iter\n",
      "0.00 done. Cur loss is 0.287\n",
      "Max:  0.312409752582  Mean 0.287276643272\n",
      "Start new iter\n",
      "0.00 done. Cur loss is 0.287\n",
      "Max:  0.312296939394  Mean 0.287180690427\n",
      "Start new iter\n",
      "0.00 done. Cur loss is 0.287\n",
      "Max:  0.312247967115  Mean 0.287139036771\n"
     ]
    }
   ],
   "source": [
    "X = mnist.data[1:300]\n",
    "Y = mnist.target[1:300]\n",
    "max_iter_num = 10\n",
    "cur_iter= 0\n",
    "\n",
    "alpha = 1e-4\n",
    "mean_loss = 1\n",
    "while cur_iter < max_iter_num and mean_loss >= 0.01:\n",
    "    sm_loss = 0\n",
    "    alpha /= np.log(10)\n",
    "    max_loss = 0\n",
    "    print (\"Start new iter\")\n",
    "    for i in range(X.shape[0]):\n",
    "        real = np.zeros(10)\n",
    "        real[int(Y[i])] = 1\n",
    "        #predictor.forward(mnist.data[i], real)\n",
    "        loss = predictor.forward(X[i], real)\n",
    "        sm_loss += loss\n",
    "        if loss > max_loss:\n",
    "            max_loss = loss\n",
    "        if i % 1000 == 0:\n",
    "            print (\"{:.2f} done. Cur loss is {:.3f}\".format(i / X.shape[0], loss))\n",
    "        predictor.backward(real, alpha = alpha)\n",
    "    cur_iter += 1\n",
    "    mean_loss = sm_loss / X.shape[0]\n",
    "    print(\"Max: \", max_loss, \" Mean\", mean_loss)"
   ]
  },
  {
   "cell_type": "code",
   "execution_count": null,
   "metadata": {
    "collapsed": true
   },
   "outputs": [],
   "source": []
  }
 ],
 "metadata": {
  "anaconda-cloud": {},
  "kernelspec": {
   "display_name": "Python [conda root]",
   "language": "python",
   "name": "conda-root-py"
  },
  "language_info": {
   "codemirror_mode": {
    "name": "ipython",
    "version": 2
   },
   "file_extension": ".py",
   "mimetype": "text/x-python",
   "name": "python",
   "nbconvert_exporter": "python",
   "pygments_lexer": "ipython2",
   "version": "2.7.12"
  }
 },
 "nbformat": 4,
 "nbformat_minor": 1
}
